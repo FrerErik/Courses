{
 "cells": [
  {
   "cell_type": "code",
   "execution_count": 1,
   "id": "cbc15cc8",
   "metadata": {},
   "outputs": [],
   "source": [
    "from Ex2 import sammon\n",
    "import matplotlib.pyplot as plt\n",
    "from sklearn.manifold import TSNE\n",
    "from sklearn import preprocessing\n",
    "from sklearn.decomposition import PCA\n",
    "from sklearn.manifold import TSNE"
   ]
  },
  {
   "cell_type": "code",
   "execution_count": 2,
   "id": "7c2c87ed",
   "metadata": {},
   "outputs": [],
   "source": [
    "from sklearn.datasets import load_digits\n",
    "from sklearn.datasets import load_breast_cancer\n",
    "from sklearn.datasets import load_wine\n",
    "\n",
    "D1 = load_digits()\n",
    "D2 = load_breast_cancer()\n",
    "D3 = load_wine()"
   ]
  },
  {
   "cell_type": "markdown",
   "id": "2ea3476c",
   "metadata": {},
   "source": [
    "## Creating the datasets\n"
   ]
  },
  {
   "cell_type": "code",
   "execution_count": 3,
   "id": "40fd953b",
   "metadata": {},
   "outputs": [],
   "source": [
    "datasets = [D1, D2, D3]\n",
    "drTechniques = [PCA, TSNE, sammon]\n",
    "datasets_name = ['digits', 'breast_cancer', 'wine']\n",
    "drs_name = ['PCA', 'TSNE', 'Sammon']\n",
    "font = {'size'   : 19}"
   ]
  },
  {
   "cell_type": "code",
   "execution_count": null,
   "id": "1902248c",
   "metadata": {},
   "outputs": [],
   "source": [
    "fig1, ax1 = plt.subplots(nrows=3, ncols=3)\n",
    "i = 0\n",
    "for row in ax1:\n",
    "    data = datasets[i]\n",
    "    # important for data to be normalized otherwise it will not work\n",
    "    X = preprocessing.normalize(data.data, axis = 0)\n",
    "    y = data.target\n",
    "    X, y = X[:400], y[:400]\n",
    "    j = 0\n",
    "    for col in row:\n",
    "        dr = drTechniques[j]\n",
    "        if dr == sammon:\n",
    "            Xe = dr(X,1000,  0.000000001, 0.3)\n",
    "        else:\n",
    "            if dr == TSNE: \n",
    "                Xe = dr(n_components= 2, learning_rate='auto', init='random').fit_transform(X)\n",
    "            else: \n",
    "                Xe = dr(n_components= 2).fit_transform(X)\n",
    "        col.scatter(Xe[:,0], Xe[:,1], alpha=0.8, c=y, s = 30, cmap='viridis')\n",
    "        if j == 0:\n",
    "            col.set_ylabel(datasets_name[i])\n",
    "        if i == 0:\n",
    "            col.set_title(drs_name[j])\n",
    "        col.set_xticks([]),col.set_yticks([])\n",
    "        j +=1\n",
    "    i += 1\n",
    "    \n",
    "plt.rc('font', **font)\n",
    "plt.tight_layout()\n",
    "fig1.set_size_inches(15, 15)"
   ]
  },
  {
   "cell_type": "markdown",
   "id": "f69b9a19",
   "metadata": {},
   "source": [
    "## Q.1 In your opinion, which technique performed the best for each data set, regarding the separation of the classes?\n",
    "\n",
    "Maximum of 400 samples were utilized\n",
    "digits had 1797 samples and 10 classes\n",
    "breast_cancer has 569 samples and 2 classes\n",
    "wine has 178 samples and 3 classes\n",
    "\n",
    "\n",
    "for digits I think TSNE performed the best, however PCS and Sammon are also quite accurate, for computer standards, the aim, after all, is for computers to be able to run the info as quickly as possible\n",
    "\n",
    "for breast_cancer, every single one seems to perform well \n",
    "\n",
    "and for wine, the graphs do not look very different from each other and the data is well presented\n",
    "\n",
    "\n",
    "## Q.2 How are the classes in the data sets separated? Are some classes/data sets easier to separate than others?\n",
    "\n",
    "p1.\n",
    "Depending on the technique, PCA utilizes the variance of each value\n",
    ", TSNE utilizes a Gaussian distribution and combination of the distance of the point to others and Sammon utilizes gradient descent.\n",
    "\n",
    "\n",
    "p2.\n",
    "for PCA let's say, you have multiple pictures from Digits and realize that all of them contain a white background that does not help the identification process and so while putting this in the algorithm, this will notice that it's very common on all data points and it's not utilized and so it will be completely ignored and the output will contain images of the values but without any background behind them, so this explains how irrelevant data its separated, and for relevant data then it would utilize the values and look for common grounds and cluster them in an area, then depending on the value of classes you introduced it will try to circle each cluster.\n",
    "\n",
    "all dr utilizes similar thinking but they reach their conclusions differently and so making some datasets easier to separate and some that dont\n"
   ]
  },
  {
   "cell_type": "code",
   "execution_count": null,
   "id": "dc6d3f8b",
   "metadata": {},
   "outputs": [],
   "source": []
  }
 ],
 "metadata": {
  "kernelspec": {
   "display_name": "Python 3 (ipykernel)",
   "language": "python",
   "name": "python3"
  },
  "language_info": {
   "codemirror_mode": {
    "name": "ipython",
    "version": 3
   },
   "file_extension": ".py",
   "mimetype": "text/x-python",
   "name": "python",
   "nbconvert_exporter": "python",
   "pygments_lexer": "ipython3",
   "version": "3.10.4"
  }
 },
 "nbformat": 4,
 "nbformat_minor": 5
}
